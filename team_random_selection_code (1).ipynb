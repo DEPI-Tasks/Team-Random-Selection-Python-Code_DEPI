{
  "cells": [
    {
      "cell_type": "markdown",
      "metadata": {
        "id": "64zXHhCJXPji"
      },
      "source": [
        "# Team Random Selection Code :)\n"
      ]
    },
    {
      "cell_type": "code",
      "execution_count": null,
      "metadata": {
        "id": "1JfgtnrpXPju"
      },
      "outputs": [],
      "source": [
        "import random\n",
        "\n",
        "# Define the four test lists\n",
        "level1_list = [1, 2, 3, 4]\n",
        "level2_list = ['a', 'b', 'c','d']\n",
        "level3_list = [99, 88, 77,66]\n",
        "level4_list = [\"1$\",\"2&\",\"3%\",\"4©\"]"
      ]
    },
    {
      "cell_type": "markdown",
      "metadata": {
        "id": "hTTRVGgvXPj1"
      },
      "source": [
        "# Think about a code that help us to have random new mixed lists, each list should have one element from each level lists.\n",
        "\n",
        "Output may be like that following:\n",
        "```python\n",
        "team1 = [1, 'c', 88, '2&']\n",
        "team2 = [4, 'a', 99, '3%']\n",
        "team3 = [2, 'b', 77, '4©']\n",
        "team4 = [3, 'd', 66, '1$']\n",
        "```\n",
        "\n"
      ]
    },
    {
      "cell_type": "code",
      "execution_count": 3,
      "metadata": {
        "colab": {
          "base_uri": "https://localhost:8080/"
        },
        "id": "gbrTOTYpXPj4",
        "outputId": "c47ea4b2-30b6-4d86-862c-0a553a87ff76"
      },
      "outputs": [
        {
          "output_type": "stream",
          "name": "stdout",
          "text": [
            "team1 = [2, 'a', 66, '1$']\n",
            "team2 = [1, 'd', 77, '2&']\n",
            "team3 = [4, 'c', 88, '4©']\n",
            "team4 = [3, 'b', 99, '3%']\n"
          ]
        }
      ],
      "source": [
        "# your code here\n",
        "import random\n",
        "\n",
        "# Define the four test lists\n",
        "level1_list = [1, 2, 3, 4]\n",
        "level2_list = ['a', 'b', 'c','d']\n",
        "level3_list = [99, 88, 77,66]\n",
        "level4_list = [\"1$\",\"2&\",\"3%\",\"4©\"]\n",
        "\n",
        "# Shuffle each list to ensure randomness\n",
        "random.shuffle(level1_list)\n",
        "random.shuffle(level2_list)\n",
        "random.shuffle(level3_list)\n",
        "random.shuffle(level4_list)\n",
        "\n",
        "# Generate teams ensuring uniqueness\n",
        "team1 = [level1_list[0], level2_list[0], level3_list[0], level4_list[0]]\n",
        "team2 = [level1_list[1], level2_list[1], level3_list[1], level4_list[1]]\n",
        "team3 = [level1_list[2], level2_list[2], level3_list[2], level4_list[2]]\n",
        "team4 = [level1_list[3], level2_list[3], level3_list[3], level4_list[3]]\n",
        "\n",
        "# Print the teams\n",
        "print(f\"team1 = {team1}\")\n",
        "print(f\"team2 = {team2}\")\n",
        "print(f\"team3 = {team3}\")\n",
        "print(f\"team4 = {team4}\")"
      ]
    }
  ],
  "metadata": {
    "kernelspec": {
      "display_name": "pubmed",
      "language": "python",
      "name": "python3"
    },
    "language_info": {
      "name": "python",
      "version": "3.11.9"
    },
    "colab": {
      "provenance": []
    }
  },
  "nbformat": 4,
  "nbformat_minor": 0
}